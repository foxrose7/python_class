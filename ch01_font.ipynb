{
 "cells": [
  {
   "cell_type": "markdown",
   "metadata": {},
   "source": [
    "## 한글 폰트를 설정한 파일로 지정하기\n",
    "### Python 코드로 폰트를 설정하지 않고, Matplotlib의 설정파일 matplotlibrc를 편집해서 폰트를 설정하는 방법을 알아본다.\n"
   ]
  },
  {
   "cell_type": "code",
   "execution_count": 2,
   "metadata": {},
   "outputs": [
    {
     "data": {
      "image/png": "[encoded data removed]",
      "text/plain": [
       "<Figure size 432x288 with 1 Axes>"
      ]
     },
     "metadata": {
      "needs_background": "light"
     },
     "output_type": "display_data"
    },
    {
     "name": "stdout",
     "output_type": "stream",
     "text": [
      "/Users/foxrose/work/notebooks/matplotlibrc\n"
     ]
    }
   ],
   "source": [
    "import numpy as np\n",
    "from matplotlib import pyplot as plt\n",
    "\n",
    "np.random.seed(0)\n",
    "\n",
    "x = range(5)\n",
    "y = 10 + 5 * np.random.randn(5)\n",
    "\n",
    "fig = plt.figure()\n",
    "ax = fig.add_subplot(111)\n",
    "\n",
    "ax.set_title('한글 타이틀')\n",
    "ax.bar(x, y)\n",
    "plt.show()\n",
    "\n",
    "# Python의 코드로 폰트를 설정하는 것이 아니라, Matplotlib의 설정 파일 maptlotlibrc\n",
    "# 파일을 편집해서 폰트를 설정하는 방법을 소개한다. matplotlibrc 은 Matpotlib의 설정에\n",
    "# 관한 항목을 기술하는 설정 파일이다. 폰트 설정 이외의 그래프 작성에 관한 설정도 가능하다. \n",
    "# 설저된 값은 초기 설정값으로 채용되기 때문에 Notebook마다 설정할 필요가 없어졌다. \n",
    "\n",
    "# 현재 참조하고 있는 matplotlib의 장소를 확인하려면 matplotlib_fname() 을 이용한다. \n",
    "\n",
    "from matplotlib import matplotlib_fname\n",
    "print(matplotlib_fname())\n",
    "# 표시된 matplotlibrc 파일을 직접 변경해되 괞찬지만 그 경우 오리지널 설정을 잃기 쉽다. 여기에서는\n",
    "# 파일을 볷하하여 사용한다 .matplotlibrc 은 다음 우선 순위로 동작한다. \n",
    "# 1) 현재 작업 디렉터리에 있는 matplotlibrc\n",
    "# 2) #MATPLOTLIBRC/matplotlibrc\n",
    "# 3) $HOME/.config.matplotlib/matplotlibrc, $XDG_CONFIG_HOME/matplotlib/matplotlibrc 또는\n",
    "# matplotlib/matpplotlibrc(OS나 환경에 따라 다름)\n",
    "# 4) matplotlib 패키지ㅏ 설치된 디렉터리 mpl-data/matplotlibrc\n",
    "\n",
    "# 그 때문에 가장 우선순위가높은 현재 작업 디렉터리에 설정 파일을 복하새서 이요한다. \n",
    "# import shutil\n",
    "# from matplotlib import matplotlib_fname\n",
    "# 설정 파일 복사\n",
    "# shutil.copyfile(matplotlib_fname(), 'matplotlibrc')\n",
    "\n",
    "# matplotlibrc 의 208행 부근 에 font.sans-serif지정 항목이 있다. \n",
    "# 행머리의 #dmf 삭제하고 폰터 설정 가장 앖에 Source Han Sans K를 추가한다. \n",
    "# 폰트에 관한 설정을 변경하면 fontList.py3k.cache파일을 삭제하고 Notebook을 재실행 한다. \n",
    "# Python코드로 지정하는 경우와 동일하게 Notebook의 재실행이 아니라 커널의 재시작라도 상관 없다. \n"
   ]
  }
 ],
 "metadata": {
  "kernelspec": {
   "display_name": "Python 3",
   "language": "python",
   "name": "python3"
  },
  "language_info": {
   "codemirror_mode": {
    "name": "ipython",
    "version": 3
   },
   "file_extension": ".py",
   "mimetype": "text/x-python",
   "name": "python",
   "nbconvert_exporter": "python",
   "pygments_lexer": "ipython3",
   "version": "3.6.8"
  }
 },
 "nbformat": 4,
 "nbformat_minor": 2
}

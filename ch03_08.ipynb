{
 "cells": [
  {
   "cell_type": "markdown",
   "metadata": {},
   "source": [
    "## 03-09 시계열 데이터의 처리\n",
    "\n",
    "pandas에서는 여러가지 시계열 데이터를 처리하는 기능을 가지고 있다. \n",
    "\n",
    "### 주가 취득하기\n",
    "\n",
    "여기에서는 시계열 데이터의 샘플로서 주가를 다룬다.\n",
    "\n",
    "- 주가 취득"
   ]
  },
  {
   "cell_type": "code",
   "execution_count": 1,
   "metadata": {},
   "outputs": [
    {
     "name": "stdout",
     "output_type": "stream",
     "text": [
      "            TOEI ANIMATION  IG Port\n",
      "Date                               \n",
      "2015-01-01         3356.86  1201.51\n",
      "2015-01-02         3356.86  1201.51\n",
      "2015-01-05         3396.12  1218.44\n",
      "2015-01-06         3361.77  1201.51\n",
      "2015-01-07         3297.97  1202.51\n"
     ]
    }
   ],
   "source": [
    "import pandas as pd\n",
    "\n",
    "anime_stock_price_csv = './anime/anime_stock_price.csv'\n",
    "\n",
    "df = pd.read_csv(anime_stock_price_csv, index_col=0, parse_dates=['Date'])\n",
    "\n",
    "print(df.head())"
   ]
  },
  {
   "cell_type": "markdown",
   "metadata": {},
   "source": [
    "### 시계열 데이터로 사용된 함수\n",
    "pct_change() 메서드를 사용하여 하나 전의 값으로부터의 변화율을 산출한다. \n",
    "다음 코드는 일별 등락률을 산출하고 있다. "
   ]
  },
  {
   "cell_type": "code",
   "execution_count": 2,
   "metadata": {},
   "outputs": [
    {
     "name": "stdout",
     "output_type": "stream",
     "text": [
      "Date\n",
      "2015-01-01         NaN\n",
      "2015-01-02    0.000000\n",
      "2015-01-05    0.011695\n",
      "2015-01-06   -0.010114\n",
      "2015-01-07   -0.018978\n",
      "2015-01-08    0.035713\n",
      "2015-01-09    0.028735\n",
      "                ...   \n",
      "2016-12-22   -0.008547\n",
      "2016-12-23    0.000000\n",
      "2016-12-26    0.001725\n",
      "2016-12-27    0.010326\n",
      "2016-12-28    0.015333\n",
      "2016-12-29    0.013422\n",
      "2016-12-30    0.000000\n",
      "Name: TOEI ANIMATION, Length: 522, dtype: float64\n"
     ]
    }
   ],
   "source": [
    "pd.options.display.max_rows = 15 # pandas로 실행하는 행 수를 지정\n",
    "pct_change = df['TOEI ANIMATION'].pct_change()\n",
    "print(pct_change)"
   ]
  },
  {
   "cell_type": "markdown",
   "metadata": {},
   "source": [
    "\n",
    "comprod()메서드를 사용하여 누적값을 산출할 수 있다. \n",
    "\n",
    "다음 코드는 첫날의 주가를 1로 해서 주가의 누적 리턴을 산출한다. "
   ]
  },
  {
   "cell_type": "code",
   "execution_count": 3,
   "metadata": {},
   "outputs": [
    {
     "data": {
      "text/plain": [
       "Date\n",
       "2015-01-01    1.000000\n",
       "2015-01-02    1.000000\n",
       "2015-01-05    1.011695\n",
       "2015-01-06    1.001463\n",
       "2015-01-07    0.982457\n",
       "2015-01-08    1.017543\n",
       "2015-01-09    1.046782\n",
       "                ...   \n",
       "2016-12-22    1.719866\n",
       "2016-12-23    1.719866\n",
       "2016-12-26    1.722833\n",
       "2016-12-27    1.740624\n",
       "2016-12-28    1.767312\n",
       "2016-12-29    1.791034\n",
       "2016-12-30    1.791034\n",
       "Name: TOEI ANIMATION, Length: 522, dtype: float64"
      ]
     },
     "execution_count": 3,
     "metadata": {},
     "output_type": "execute_result"
    }
   ],
   "source": [
    "cumulative_returns = (pct_change+1).cumprod()\n",
    "cumulative_returns[0] = 1\n",
    "cumulative_returns"
   ]
  },
  {
   "cell_type": "markdown",
   "metadata": {},
   "source": [
    "rolling()메서드를 사용하여 데이터의 범위를 이동시키면서 함수를 적용할 수 있다. 제1인수에 구간을 정수로 지정하여 이 구군에 대해 함수를 적용한다. \n",
    "\n",
    "다음 코드는5일간의 이동 평균을 산출하고 있다. 과거 5일간의 평균을 산출하기 위해 최소 4일간은 NaN이 된다. "
   ]
  },
  {
   "cell_type": "code",
   "execution_count": 4,
   "metadata": {},
   "outputs": [
    {
     "data": {
      "text/plain": [
       "Date\n",
       "2015-01-01         NaN\n",
       "2015-01-02         NaN\n",
       "2015-01-05         NaN\n",
       "2015-01-06         NaN\n",
       "2015-01-07    3353.916\n",
       "2015-01-08    3365.694\n",
       "2015-01-09    3397.102\n",
       "                ...   \n",
       "2016-12-22    5793.260\n",
       "2016-12-23    5791.268\n",
       "2016-12-26    5793.260\n",
       "2016-12-27    5799.232\n",
       "2016-12-28    5821.132\n",
       "2016-12-29    5868.912\n",
       "2016-12-30    5916.692\n",
       "Name: TOEI ANIMATION, Length: 522, dtype: float64"
      ]
     },
     "execution_count": 4,
     "metadata": {},
     "output_type": "execute_result"
    }
   ],
   "source": [
    "df['TOEI ANIMATION'].rolling(5).mean()"
   ]
  },
  {
   "cell_type": "markdown",
   "metadata": {},
   "source": [
    "위의 예제에서는 mean()메서드를 사용하고 있지만 임의의 함수를 적용할 수 있다. \n",
    "\n",
    "다음은 20일간의 변동성을 산출하는 함수를 작성해서 적용하고 있다. "
   ]
  },
  {
   "cell_type": "code",
   "execution_count": 5,
   "metadata": {},
   "outputs": [
    {
     "data": {
      "text/plain": [
       "Date\n",
       "2015-01-01         NaN\n",
       "2015-01-02         NaN\n",
       "2015-01-05         NaN\n",
       "2015-01-06         NaN\n",
       "2015-01-07         NaN\n",
       "2015-01-08         NaN\n",
       "2015-01-09         NaN\n",
       "                ...   \n",
       "2016-12-22    0.160284\n",
       "2016-12-23    0.158950\n",
       "2016-12-26    0.158355\n",
       "2016-12-27    0.163235\n",
       "2016-12-28    0.170891\n",
       "2016-12-29    0.172681\n",
       "2016-12-30    0.151983\n",
       "Name: TOEI ANIMATION, Length: 522, dtype: float64"
      ]
     },
     "execution_count": 5,
     "metadata": {},
     "output_type": "execute_result"
    }
   ],
   "source": [
    "import numpy as np\n",
    "\n",
    "def historical_volatility(x):\n",
    "    logreturns = np.diff(np.log(x)) # 로그 수익률\n",
    "    return np.sqrt(365 * logreturns.var())\n",
    "\n",
    "df['TOEI ANIMATION'].rolling(20).apply(historical_volatility, raw=True)"
   ]
  },
  {
   "cell_type": "markdown",
   "metadata": {},
   "source": [
    "### DatetimeIndex\n",
    "pandas의 DatetimeIndex는 datetime 형에 특화된 처리가 가능한 Index이다. \n",
    "pandas.date_range() 함수는 지정한 주기의 DatetimeIndex를 작성한다. \n",
    "\n",
    "- date_range()인수\n",
    "\n",
    "인수       | 설명\n",
    "----------|-----------------------------------------------------------\n",
    "start     | DatetimeIndex 시작일시를 문자열 또는 DatetimeIndex형으로 지정한다. \n",
    "end       | DateteimIndex 종료일시를 문자열 또는 DatetimeIndex형으로 지정한다 \n",
    "periods   | 길이를 정수값으로 지정한다. \n",
    "freq      | 주기를 문자열로 지정한다 \n",
    "tz        | 타임존을 문자열로 지정한다 \n",
    "normalize | True 를 지정해서 시각부분을 둥글게 한다. \n",
    "name      | DatetimeIndex 이름을 문자열로 지정한다 \n",
    "closed    | 지정한 쪽의 기간을 닫는다. left를 지정해서 마지막 일시가 제외된 DatetimeIndex가 작성된다. right을 지정해서 최초 일시가 제외된 DatetimeIndex가 작성된다. \n"
   ]
  },
  {
   "cell_type": "markdown",
   "metadata": {},
   "source": [
    "- DatetimeIndex 작성\n"
   ]
  },
  {
   "cell_type": "code",
   "execution_count": 6,
   "metadata": {},
   "outputs": [
    {
     "name": "stdout",
     "output_type": "stream",
     "text": [
      "DatetimeIndex(['2017-01-01 00:00:00', '2017-01-01 01:00:00',\n",
      "               '2017-01-01 02:00:00', '2017-01-01 03:00:00',\n",
      "               '2017-01-01 04:00:00', '2017-01-01 05:00:00',\n",
      "               '2017-01-01 06:00:00', '2017-01-01 07:00:00',\n",
      "               '2017-01-01 08:00:00', '2017-01-01 09:00:00',\n",
      "               ...\n",
      "               '2017-01-31 15:00:00', '2017-01-31 16:00:00',\n",
      "               '2017-01-31 17:00:00', '2017-01-31 18:00:00',\n",
      "               '2017-01-31 19:00:00', '2017-01-31 20:00:00',\n",
      "               '2017-01-31 21:00:00', '2017-01-31 22:00:00',\n",
      "               '2017-01-31 23:00:00', '2017-02-01 00:00:00'],\n",
      "              dtype='datetime64[ns]', length=745, freq='H')\n"
     ]
    }
   ],
   "source": [
    "ix = pd.date_range('2017-01', '2017-02', freq='1H')\n",
    "print(ix)"
   ]
  },
  {
   "cell_type": "markdown",
   "metadata": {},
   "source": [
    "#### Series의 인덱스로 사용하는 경우\n",
    "DatetimeIndex는 Series나 DataFrame의 인덱스로 사용할 수 있다. \n"
   ]
  },
  {
   "cell_type": "code",
   "execution_count": 7,
   "metadata": {},
   "outputs": [
    {
     "data": {
      "text/plain": [
       "2017-01-01 00:00:00      0\n",
       "2017-01-01 01:00:00      1\n",
       "2017-01-01 02:00:00      2\n",
       "2017-01-01 03:00:00      3\n",
       "2017-01-01 04:00:00      4\n",
       "2017-01-01 05:00:00      5\n",
       "2017-01-01 06:00:00      6\n",
       "                      ... \n",
       "2017-01-31 18:00:00    738\n",
       "2017-01-31 19:00:00    739\n",
       "2017-01-31 20:00:00    740\n",
       "2017-01-31 21:00:00    741\n",
       "2017-01-31 22:00:00    742\n",
       "2017-01-31 23:00:00    743\n",
       "2017-02-01 00:00:00    744\n",
       "Freq: H, Length: 745, dtype: int64"
      ]
     },
     "execution_count": 7,
     "metadata": {},
     "output_type": "execute_result"
    }
   ],
   "source": [
    "time_series = pd.Series(np.arange(len(ix)), index=ix)\n",
    "time_series"
   ]
  },
  {
   "cell_type": "markdown",
   "metadata": {},
   "source": [
    "### 시계열 데이터를 추출하기\n",
    "\n",
    "DatetimeIndex의 인덱서에는 datetime 형과 문자열형 양쪽을 지정할 수 있다. \n",
    "다음 코드는 datetime형으로 데이터를 선택하고 있다. "
   ]
  },
  {
   "cell_type": "code",
   "execution_count": 8,
   "metadata": {},
   "outputs": [
    {
     "data": {
      "text/plain": [
       "TOEI ANIMATION    5699.74\n",
       "IG Port            822.66\n",
       "Name: 2016-01-04 00:00:00, dtype: float64"
      ]
     },
     "execution_count": 8,
     "metadata": {},
     "output_type": "execute_result"
    }
   ],
   "source": [
    "from datetime import datetime\n",
    "\n",
    "df.loc[datetime(2016, 1, 4)]"
   ]
  },
  {
   "cell_type": "markdown",
   "metadata": {},
   "source": [
    "#### 인덱서에 문자열을 지정하는 경우\n",
    "\n",
    "인덱서에 문자열을 지정하는 경우에는 다음과 같이 지정한다. "
   ]
  },
  {
   "cell_type": "code",
   "execution_count": 9,
   "metadata": {},
   "outputs": [
    {
     "data": {
      "text/plain": [
       "TOEI ANIMATION    5699.74\n",
       "IG Port            822.66\n",
       "Name: 2016-01-04 00:00:00, dtype: float64"
      ]
     },
     "execution_count": 9,
     "metadata": {},
     "output_type": "execute_result"
    }
   ],
   "source": [
    "df.loc['2016-01-04']"
   ]
  },
  {
   "cell_type": "markdown",
   "metadata": {},
   "source": [
    "#### 특정 년도나 월의 데이터만 추출하는 경우\n",
    "인덱스에 년, 월을 지정해서 특정 년, 월의 데이터만 추출할 수 있다. "
   ]
  },
  {
   "cell_type": "code",
   "execution_count": 10,
   "metadata": {},
   "outputs": [
    {
     "name": "stdout",
     "output_type": "stream",
     "text": [
      "            TOEI ANIMATION  IG Port\n",
      "Date                               \n",
      "2015-01-01         3356.86  1201.51\n",
      "2015-01-02         3356.86  1201.51\n",
      "2015-01-05         3396.12  1218.44\n",
      "2015-01-06         3361.77  1201.51\n",
      "2015-01-07         3297.97  1202.51\n"
     ]
    }
   ],
   "source": [
    "print(df.loc['2015'].head())"
   ]
  },
  {
   "cell_type": "markdown",
   "metadata": {},
   "source": [
    "- 월을 지정한 추출"
   ]
  },
  {
   "cell_type": "code",
   "execution_count": 11,
   "metadata": {},
   "outputs": [
    {
     "name": "stdout",
     "output_type": "stream",
     "text": [
      "            TOEI ANIMATION  IG Port\n",
      "Date                               \n",
      "2015-05-01         3567.29  1168.66\n",
      "2015-05-04         3567.29  1168.66\n",
      "2015-05-05         3567.29  1168.66\n",
      "2015-05-06         3567.29  1168.66\n",
      "2015-05-07         3577.18  1169.66\n"
     ]
    }
   ],
   "source": [
    "print(df.loc['2015-05'].head())"
   ]
  },
  {
   "cell_type": "markdown",
   "metadata": {},
   "source": [
    "- 년, 월 등을 지정해서 슬리이스 하는 경우"
   ]
  },
  {
   "cell_type": "code",
   "execution_count": 12,
   "metadata": {},
   "outputs": [
    {
     "name": "stdout",
     "output_type": "stream",
     "text": [
      "            TOEI ANIMATION  IG Port\n",
      "Date                               \n",
      "2015-12-01         5947.13   910.41\n",
      "2015-12-02         5917.44   896.45\n",
      "2015-12-03         5917.44   893.46\n",
      "2015-12-04         5867.97   888.47\n",
      "2015-12-07         5917.44   892.46\n",
      "2015-12-08         5937.23   890.46\n",
      "2015-12-09         5838.28   890.46\n",
      "...                    ...      ...\n",
      "2016-01-21         5185.18   628.21\n",
      "2016-01-22         5333.62   666.10\n",
      "2016-01-25         5452.36   704.99\n",
      "2016-01-26         5491.94   702.00\n",
      "2016-01-27         5521.63   721.94\n",
      "2016-01-28         5679.95   733.91\n",
      "2016-01-29         5670.06   739.89\n",
      "\n",
      "[44 rows x 2 columns]\n"
     ]
    }
   ],
   "source": [
    "print(df.loc['2015-12':'2016-01'])"
   ]
  },
  {
   "cell_type": "markdown",
   "metadata": {},
   "source": [
    "#### 지정한 시각만의 데이터를 추출하는 경우\n",
    "datetime.time 형으로 지정한 시각만의 데이터를 추출할 수 있다. "
   ]
  },
  {
   "cell_type": "code",
   "execution_count": 18,
   "metadata": {},
   "outputs": [
    {
     "data": {
      "text/plain": [
       "2017-01-01 09:00:00      9\n",
       "2017-01-02 09:00:00     33\n",
       "2017-01-03 09:00:00     57\n",
       "2017-01-04 09:00:00     81\n",
       "2017-01-05 09:00:00    105\n",
       "2017-01-06 09:00:00    129\n",
       "2017-01-07 09:00:00    153\n",
       "                      ... \n",
       "2017-01-25 09:00:00    585\n",
       "2017-01-26 09:00:00    609\n",
       "2017-01-27 09:00:00    633\n",
       "2017-01-28 09:00:00    657\n",
       "2017-01-29 09:00:00    681\n",
       "2017-01-30 09:00:00    705\n",
       "2017-01-31 09:00:00    729\n",
       "Freq: 24H, Length: 31, dtype: int64"
      ]
     },
     "execution_count": 18,
     "metadata": {},
     "output_type": "execute_result"
    }
   ],
   "source": [
    "from datetime import time\n",
    "\n",
    "time_series.loc[time(9,0)]"
   ]
  },
  {
   "cell_type": "markdown",
   "metadata": {},
   "source": [
    "#### 지정한 시간대만 추출하는 경우\n",
    "between_time()메서드를 이용하여 지정한 시간대만 추출할 수 있다. "
   ]
  },
  {
   "cell_type": "code",
   "execution_count": 19,
   "metadata": {},
   "outputs": [
    {
     "data": {
      "text/plain": [
       "2017-01-01 09:00:00      9\n",
       "2017-01-01 10:00:00     10\n",
       "2017-01-01 11:00:00     11\n",
       "2017-01-01 12:00:00     12\n",
       "2017-01-02 09:00:00     33\n",
       "2017-01-02 10:00:00     34\n",
       "2017-01-02 11:00:00     35\n",
       "                      ... \n",
       "2017-01-30 10:00:00    706\n",
       "2017-01-30 11:00:00    707\n",
       "2017-01-30 12:00:00    708\n",
       "2017-01-31 09:00:00    729\n",
       "2017-01-31 10:00:00    730\n",
       "2017-01-31 11:00:00    731\n",
       "2017-01-31 12:00:00    732\n",
       "Length: 124, dtype: int64"
      ]
     },
     "execution_count": 19,
     "metadata": {},
     "output_type": "execute_result"
    }
   ],
   "source": [
    "time_series.between_time(time(9,0), time(12,0))"
   ]
  },
  {
   "cell_type": "markdown",
   "metadata": {},
   "source": [
    "#### 리샘플링\n",
    "resample()메서드를 이용하여 시계열 데이터의 빈도를 변환할 수 있다. 일별 데이터를 주별이나 월별 등의 데이터로 변환 할 수 있다. "
   ]
  },
  {
   "cell_type": "markdown",
   "metadata": {},
   "source": [
    "- 월별 주가 평균값"
   ]
  },
  {
   "cell_type": "code",
   "execution_count": 20,
   "metadata": {},
   "outputs": [
    {
     "data": {
      "text/plain": [
       "Date\n",
       "2015-01-31    3647.080000\n",
       "2015-02-28    3612.302500\n",
       "2015-03-31    3625.770455\n",
       "2015-04-30    3477.555455\n",
       "2015-05-31    3653.990476\n",
       "Freq: M, Name: TOEI ANIMATION, dtype: float64"
      ]
     },
     "execution_count": 20,
     "metadata": {},
     "output_type": "execute_result"
    }
   ],
   "source": [
    "df['TOEI ANIMATION'].resample('M').mean().head()"
   ]
  },
  {
   "cell_type": "markdown",
   "metadata": {},
   "source": [
    "ohlc()메서드를 이용하여 4개 값으로 변환할 수 있다. 다음은 일별 데이터에서 주별 4개 값(주봉이라고 불린다)으로 변환하고 있다."
   ]
  },
  {
   "cell_type": "code",
   "execution_count": 21,
   "metadata": {},
   "outputs": [
    {
     "data": {
      "text/html": [
       "<div>\n",
       "<style scoped>\n",
       "    .dataframe tbody tr th:only-of-type {\n",
       "        vertical-align: middle;\n",
       "    }\n",
       "\n",
       "    .dataframe tbody tr th {\n",
       "        vertical-align: top;\n",
       "    }\n",
       "\n",
       "    .dataframe thead th {\n",
       "        text-align: right;\n",
       "    }\n",
       "</style>\n",
       "<table border=\"1\" class=\"dataframe\">\n",
       "  <thead>\n",
       "    <tr style=\"text-align: right;\">\n",
       "      <th></th>\n",
       "      <th>open</th>\n",
       "      <th>high</th>\n",
       "      <th>low</th>\n",
       "      <th>close</th>\n",
       "    </tr>\n",
       "    <tr>\n",
       "      <th>Date</th>\n",
       "      <th></th>\n",
       "      <th></th>\n",
       "      <th></th>\n",
       "      <th></th>\n",
       "    </tr>\n",
       "  </thead>\n",
       "  <tbody>\n",
       "    <tr>\n",
       "      <th>2015-01-04</th>\n",
       "      <td>3356.86</td>\n",
       "      <td>3356.86</td>\n",
       "      <td>3356.86</td>\n",
       "      <td>3356.86</td>\n",
       "    </tr>\n",
       "    <tr>\n",
       "      <th>2015-01-11</th>\n",
       "      <td>3396.12</td>\n",
       "      <td>3513.90</td>\n",
       "      <td>3297.97</td>\n",
       "      <td>3513.90</td>\n",
       "    </tr>\n",
       "    <tr>\n",
       "      <th>2015-01-18</th>\n",
       "      <td>3513.90</td>\n",
       "      <td>3872.16</td>\n",
       "      <td>3435.38</td>\n",
       "      <td>3872.16</td>\n",
       "    </tr>\n",
       "    <tr>\n",
       "      <th>2015-01-25</th>\n",
       "      <td>3877.07</td>\n",
       "      <td>3877.07</td>\n",
       "      <td>3739.66</td>\n",
       "      <td>3739.66</td>\n",
       "    </tr>\n",
       "    <tr>\n",
       "      <th>2015-02-01</th>\n",
       "      <td>3774.01</td>\n",
       "      <td>3965.41</td>\n",
       "      <td>3774.01</td>\n",
       "      <td>3965.41</td>\n",
       "    </tr>\n",
       "  </tbody>\n",
       "</table>\n",
       "</div>"
      ],
      "text/plain": [
       "               open     high      low    close\n",
       "Date                                          \n",
       "2015-01-04  3356.86  3356.86  3356.86  3356.86\n",
       "2015-01-11  3396.12  3513.90  3297.97  3513.90\n",
       "2015-01-18  3513.90  3872.16  3435.38  3872.16\n",
       "2015-01-25  3877.07  3877.07  3739.66  3739.66\n",
       "2015-02-01  3774.01  3965.41  3774.01  3965.41"
      ]
     },
     "execution_count": 21,
     "metadata": {},
     "output_type": "execute_result"
    }
   ],
   "source": [
    "df['TOEI ANIMATION'].resample('W').ohlc().head()"
   ]
  },
  {
   "cell_type": "code",
   "execution_count": null,
   "metadata": {},
   "outputs": [],
   "source": []
  }
 ],
 "metadata": {
  "kernelspec": {
   "display_name": "Python 3",
   "language": "python",
   "name": "python3"
  },
  "language_info": {
   "codemirror_mode": {
    "name": "ipython",
    "version": 3
   },
   "file_extension": ".py",
   "mimetype": "text/x-python",
   "name": "python",
   "nbconvert_exporter": "python",
   "pygments_lexer": "ipython3",
   "version": "3.6.8"
  }
 },
 "nbformat": 4,
 "nbformat_minor": 2
}

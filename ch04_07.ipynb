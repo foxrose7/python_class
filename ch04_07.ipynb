{
 "cells": [
  {
   "cell_type": "markdown",
   "metadata": {},
   "source": [
    "### ch04-07. 상자 수염 그래프\n",
    "\n",
    "상자수염 그래프는 데이터의 불균형을 알아보기 쉽게 표현하는 그래프이다. 상자수염 그래프의 요소는 다음과 같다. \n"
   ]
  },
  {
   "cell_type": "markdown",
   "metadata": {},
   "source": [
    "요소       | 설명\n",
    "----------|-----\n",
    "제3사분위점  | 모든 데이터의 하위부터 3/4로 나눈 값(=Q3), 상자의 상부 끝\n",
    "중앙값      | 모든 데이터의 하위부터 1/2로 나눈 값(=제2사분위점)\n",
    "제1사분위점  | 모든 데이터의 하위부터 1/4로 나눈 값(Q1), 상자의 하부 끝\n",
    "IQR       | 사분위 범위(=Q3Q1)\n",
    "벗어난 값   | 수염의 하부 끝~상부 끝의 범위 외에 있는 데이터\n",
    "\n",
    "\n",
    "#### 상자수염 그래프 작성하기\n",
    "\n",
    "상자수염 그래프는 Axes.boxplot()메서드를 사용해서 작성한다. 메서드에 넘기는 데이터로 리스트형, 오브젝트를 이용할 수 있다. 다음 코드와 같이 1차원의 데이터를 부여하면 상자수염 그래프가 하나 출력된다. "
   ]
  },
  {
   "cell_type": "code",
   "execution_count": 1,
   "metadata": {},
   "outputs": [
    {
     "data": {
      "image/png": "[encoded data removed]",
      "text/plain": [
       "<Figure size 432x288 with 1 Axes>"
      ]
     },
     "metadata": {},
     "output_type": "display_data"
    }
   ],
   "source": [
    "%matplotlib inline\n",
    "\n",
    "import matplotlib.pyplot as plt\n",
    "plt.style.use('ggplot')\n",
    "\n",
    "x = [1, 2, 3, 3, 11, 20]\n",
    "\n",
    "fig = plt.figure()\n",
    "\n",
    "ax = fig.add_subplot(111)\n",
    "\n",
    "ax.boxplot(x)\n",
    "\n",
    "plt.show()\n"
   ]
  },
  {
   "cell_type": "markdown",
   "metadata": {},
   "source": [
    "##### 여려개의 상자수염 그래프를 그리는 경우\n",
    "\n",
    "복수의 리스트를 부여하면 여러개의 상자수염 그래프를 그릴 수 있다. 다음은 두 개의 리스트를 세터하여 두 개의 상자수염 그래프가 출력된다. "
   ]
  },
  {
   "cell_type": "code",
   "execution_count": 2,
   "metadata": {},
   "outputs": [
    {
     "data": {
      "image/png": "[encoded data removed]",
      "text/plain": [
       "<Figure size 432x288 with 1 Axes>"
      ]
     },
     "metadata": {
      "needs_background": "light"
     },
     "output_type": "display_data"
    }
   ],
   "source": [
    "# 복수의 리스트를 세트\n",
    "\n",
    "x = [[1, 2, 3, 3,11, 20], [1, 2, 9, 10, 15, 16]]\n",
    "\n",
    "labels = ['A', 'B']\n",
    "\n",
    "fig = plt.figure()\n",
    "ax = fig.add_subplot(111)\n",
    "\n",
    "# 데이터와 레이블 지정\n",
    "ax.boxplot(x, labels = labels)\n",
    "\n",
    "plt.show()"
   ]
  },
  {
   "cell_type": "markdown",
   "metadata": {},
   "source": [
    "#### 상자수염 그래프 활용하기\n",
    "\n",
    "실제의 데이터를 이용해서 그래프를 그린다. 데이터는 히스토그램 절에서와 같은 anime_master.csv 파일을 이용한다."
   ]
  },
  {
   "cell_type": "code",
   "execution_count": 3,
   "metadata": {},
   "outputs": [
    {
     "data": {
      "text/html": [
       "<div>\n",
       "<style scoped>\n",
       "    .dataframe tbody tr th:only-of-type {\n",
       "        vertical-align: middle;\n",
       "    }\n",
       "\n",
       "    .dataframe tbody tr th {\n",
       "        vertical-align: top;\n",
       "    }\n",
       "\n",
       "    .dataframe thead th {\n",
       "        text-align: right;\n",
       "    }\n",
       "</style>\n",
       "<table border=\"1\" class=\"dataframe\">\n",
       "  <thead>\n",
       "    <tr style=\"text-align: right;\">\n",
       "      <th></th>\n",
       "      <th>name</th>\n",
       "      <th>genre</th>\n",
       "      <th>type</th>\n",
       "      <th>episodes</th>\n",
       "      <th>rating</th>\n",
       "      <th>members</th>\n",
       "    </tr>\n",
       "    <tr>\n",
       "      <th>anime_id</th>\n",
       "      <th></th>\n",
       "      <th></th>\n",
       "      <th></th>\n",
       "      <th></th>\n",
       "      <th></th>\n",
       "      <th></th>\n",
       "    </tr>\n",
       "  </thead>\n",
       "  <tbody>\n",
       "    <tr>\n",
       "      <th>32281</th>\n",
       "      <td>Kimi no Na wa.</td>\n",
       "      <td>Drama, Romance, School, Supernatural</td>\n",
       "      <td>Movie</td>\n",
       "      <td>1</td>\n",
       "      <td>9.37</td>\n",
       "      <td>200630</td>\n",
       "    </tr>\n",
       "    <tr>\n",
       "      <th>5114</th>\n",
       "      <td>Fullmetal Alchemist: Brotherhood</td>\n",
       "      <td>Action, Adventure, Drama, Fantasy, Magic, Mili...</td>\n",
       "      <td>TV</td>\n",
       "      <td>64</td>\n",
       "      <td>9.26</td>\n",
       "      <td>793665</td>\n",
       "    </tr>\n",
       "    <tr>\n",
       "      <th>28977</th>\n",
       "      <td>Gintama°</td>\n",
       "      <td>Action, Comedy, Historical, Parody, Samurai, S...</td>\n",
       "      <td>TV</td>\n",
       "      <td>51</td>\n",
       "      <td>9.25</td>\n",
       "      <td>114262</td>\n",
       "    </tr>\n",
       "  </tbody>\n",
       "</table>\n",
       "</div>"
      ],
      "text/plain": [
       "                                      name  \\\n",
       "anime_id                                     \n",
       "32281                       Kimi no Na wa.   \n",
       "5114      Fullmetal Alchemist: Brotherhood   \n",
       "28977                             Gintama°   \n",
       "\n",
       "                                                      genre   type  episodes  \\\n",
       "anime_id                                                                       \n",
       "32281                  Drama, Romance, School, Supernatural  Movie         1   \n",
       "5114      Action, Adventure, Drama, Fantasy, Magic, Mili...     TV        64   \n",
       "28977     Action, Comedy, Historical, Parody, Samurai, S...     TV        51   \n",
       "\n",
       "          rating  members  \n",
       "anime_id                   \n",
       "32281       9.37   200630  \n",
       "5114        9.26   793665  \n",
       "28977       9.25   114262  "
      ]
     },
     "execution_count": 3,
     "metadata": {},
     "output_type": "execute_result"
    }
   ],
   "source": [
    "import pandas as pd\n",
    "\n",
    "anime_master_csv = './anime/anime_master.csv'\n",
    "\n",
    "df = pd.read_csv(anime_master_csv, index_col='anime_id')\n",
    "\n",
    "df.head(3)\n"
   ]
  },
  {
   "cell_type": "markdown",
   "metadata": {},
   "source": [
    "배급 종별마다 에피소드 수의 상자수염 그래프를 작성한다. 배급 종별은 6종류이기 때문에 6개의 상자수염 그래프가 출력된다. "
   ]
  },
  {
   "cell_type": "code",
   "execution_count": 4,
   "metadata": {},
   "outputs": [
    {
     "data": {
      "image/png": "[encoded data removed]",
      "text/plain": [
       "<Figure size 432x288 with 1 Axes>"
      ]
     },
     "metadata": {
      "needs_background": "light"
     },
     "output_type": "display_data"
    }
   ],
   "source": [
    "labels =[]\n",
    "types_list = []\n",
    "\n",
    "# 배급 종별마다 에피소드수 정보를 리스트화\n",
    "\n",
    "for label, df_per_type in df.groupby('type'):\n",
    "    labels.append(label)\n",
    "    types_list.append(df_per_type['episodes'].tolist())\n",
    "    \n",
    "fig = plt.figure()\n",
    "ax = fig.add_subplot(111)\n",
    "\n",
    "ax.boxplot(types_list, labels = labels)\n",
    "\n",
    "plt.show()"
   ]
  },
  {
   "cell_type": "markdown",
   "metadata": {},
   "source": [
    "위 그래프에서는 테레비젼 애니메이션을 의미하는 TV에만 큰 값이 포함되어 있는 것을 확인할 수 있다. 단, 모든 값을 출력에 포함하고 있기 때문에 상세한 내용을 알기 어려운 그래프이다. 다음 코드와 같이set_ylim()메서드에서 상자수염 그래프그리기 범위를 지정하면 에피소드 수 0 부터 100까지의 값에 한전된다. "
   ]
  },
  {
   "cell_type": "code",
   "execution_count": 5,
   "metadata": {},
   "outputs": [
    {
     "data": {
      "image/png": "[encoded data removed]",
      "text/plain": [
       "<Figure size 576x432 with 1 Axes>"
      ]
     },
     "metadata": {
      "needs_background": "light"
     },
     "output_type": "display_data"
    }
   ],
   "source": [
    "fig = plt.figure(figsize=(8, 6))\n",
    "ax = fig.add_subplot(111)\n",
    "\n",
    "ax.boxplot(types_list, labels=labels)\n",
    "\n",
    "#y축 그리기 범위를 0부터 100까지 한정\n",
    "ax.set_ylim(0, 100)\n",
    "\n",
    "plt.show()"
   ]
  },
  {
   "cell_type": "markdown",
   "metadata": {},
   "source": [
    "#### 상자수염 그래프의 서식 일괄 설정하기\n",
    "\n",
    "상자수염 그래프의 서식은 각 요소의 서식을 사전 형식으로 부여하여 일괄로 설정할 수 있다. 요소에 따라 설정 가능한 항목이 다르지만 상자 부분은 patches.PathPatch 클래스로, 그 이외의 요소는 lines.Line2D 클래스의 인스턴스로 그려지기 때문에 각각의 서식을 적용할 수 있다. \n",
    "\n",
    "항목            |  설명\n",
    "---------------|----------------\n",
    "color          | 색\n",
    "facecolor      | 채움색\n",
    "linestyle      | 선 종류\n",
    "linewidth      | 선 굵기\n",
    "maker          | 마카\n",
    "makerfacecolor | 마카 채움\n",
    "makeredgecolor | 마카테두리선\n",
    "makersize      | 마카 크기"
   ]
  },
  {
   "cell_type": "markdown",
   "metadata": {},
   "source": [
    "- 서식을 일괄로 설정할 때 다음 1)~3)의 순서로진행한다. \n",
    "\n",
    "- 1) 데이터 세트 작성하기\n",
    "\n",
    "먼저 데이터 세트를 작성한다. "
   ]
  },
  {
   "cell_type": "code",
   "execution_count": 6,
   "metadata": {},
   "outputs": [],
   "source": [
    "import numpy as np\n",
    "\n",
    "np.random.seed(3)\n",
    "dataset = [np.random.normal(20 + mu, 5, 1000) for mu in range(1, 5)]\n"
   ]
  },
  {
   "cell_type": "markdown",
   "metadata": {},
   "source": [
    "- 2) 서식 사전 만들기\n",
    "\n",
    "상자에 서식을 설정하기 위해서 사전을 만든다. 상자의 요소 , \"벗어난 값\", \"상자\", \"수염\", \"수염끝단\", \"중앙값\", \"평균값\"의 서식을 설정할 수 있다\n",
    "\n"
   ]
  },
  {
   "cell_type": "code",
   "execution_count": 7,
   "metadata": {},
   "outputs": [],
   "source": [
    "# 서식 사전 작성\n",
    "\n",
    "# 벗어난 값의 서식 사전\n",
    "flierprop = {\"color\": \"#EC407A\",\n",
    "             \"marker\": \"o\",\n",
    "             \"markerfacecolor\": \"#2196F3\",\n",
    "             \"markeredgecolor\": \"white\",\n",
    "             \"markersize\": 5,\n",
    "             \"linestyle\": \"None\",\n",
    "             \"linewidth\": 0.1}\n",
    "# 상자의 서식 사전\n",
    "boxprop = {\"color\": \"#2196F3\", \n",
    "           \"facecolor\": \"#BBDEFB\", \n",
    "           \"linewidth\": 1, \n",
    "           \"linestyle\": \"-\"}\n",
    "# 수염의 서식 사전\n",
    "whiskerprop = {\"color\": \"#2196F3\", \n",
    "               \"linewidth\": 1, \n",
    "               \"linestyle\": \"--\"}\n",
    "# 수염 끝단 서식 사전\n",
    "capprop = {\"color\": \"#2196F3\", \n",
    "           \"linewidth\": 1, \n",
    "           \"linestyle\": \":\"}\n",
    "# 중앙값 서식 사전\n",
    "medianprop = {\"color\": \"#2196F3\", \n",
    "              \"linewidth\": 2, \n",
    "              \"linestyle\": \"-\"}\n",
    "# 평균값 서식 사전\n",
    "meanprop = {\"color\": \"#2196F3\",\n",
    "            \"marker\": \"^\",\n",
    "            \"markerfacecolor\": \"#2196F3\",\n",
    "            \"markeredgecolor\": \"white\",\n",
    "            \"markersize\": 10,\n",
    "            \"linewidth\": 1,\n",
    "            \"linestyle\": \"\"}"
   ]
  },
  {
   "cell_type": "markdown",
   "metadata": {},
   "source": [
    "- 3) 그리기\n",
    "\n",
    "정의한 데이터와 서식을 사용해서 그래프를 그린다. "
   ]
  },
  {
   "cell_type": "code",
   "execution_count": 8,
   "metadata": {},
   "outputs": [
    {
     "data": {
      "image/png": "[encoded data removed]",
      "text/plain": [
       "<Figure size 432x288 with 1 Axes>"
      ]
     },
     "metadata": {
      "needs_background": "light"
     },
     "output_type": "display_data"
    }
   ],
   "source": [
    "# 상자수염 그래프 서식 일괄 설정\n",
    "\n",
    "fig = plt.figure()\n",
    "ax = fig.add_subplot(111)\n",
    "\n",
    "ax.boxplot(\n",
    "    dataset, \n",
    "    patch_artist = 'Patch', # 서식을 설정하는 경우 \"Patch\"를 선택\n",
    "    labels =['A', 'B', 'C', 'D'], # 항목 레이블\n",
    "    showmeans = True, # 평균 값 그리기\n",
    "    flierprops = flierprop, # 벗어난 값 서식 설정\n",
    "    boxprops = boxprop, # 상자 서식 설정\n",
    "    whiskerprops = whiskerprop, # 수염 서식 설정\n",
    "    capprops = capprop, # 수염 끝단 서식 설정\n",
    "    medianprops = medianprop, # 중앙값 서식 설정\n",
    "    meanprops = meanprop # 평균값 서식 설정\n",
    ")\n",
    "plt.show()"
   ]
  },
  {
   "cell_type": "markdown",
   "metadata": {},
   "source": [
    "#### 상자마다 서식 설정하기\n",
    "\n",
    "앞에서는 모든 상자의 서식을 일괄로 설정했는데 서식을 개별로 설정하는 것도 가능하다. 상자의 서식을 요소마다 설정하는 경우에는 항목에 접두사 set을 붙여서 이용한다. 다음 코드에는 다음의 순서로 서식을 설정해서 그린다.\n",
    "\n",
    "1) 그림 그리기\n",
    "2) 상자 요소 수와 같은 요소 수의 색 셋트(컬러 셋트) (colors1과 colors2)를 작성하기\n",
    "3) 위쪽과 아래쪽이 나눠져 있는 요소의 서식 설정용에 수열 리스트 n을 작성하기\n",
    "4) 상자와 벗어난 값, 중앙값(요소가 상하로 나눠져 있는 것 상하 다른 색을 설정할 수 있는 것)의 서식 설정하기\n",
    "5)  수염과 수염의 끝단(요소가 상하로 나눠져 있는 것 상하 다른 색을 설정할 수 있는 것)의 서식 설정하기\n",
    "6) 평균값의 서식 설정하기\n",
    "\n",
    "또한 서식 설정을 하기 위해서 \"patch_artist = \"Patch\"를 설정한다. "
   ]
  },
  {
   "cell_type": "code",
   "execution_count": 9,
   "metadata": {},
   "outputs": [
    {
     "data": {
      "image/png": "[encoded data removed]",
      "text/plain": [
       "<Figure size 432x288 with 1 Axes>"
      ]
     },
     "metadata": {
      "needs_background": "light"
     },
     "output_type": "display_data"
    }
   ],
   "source": [
    "# 그림 그리기\n",
    "\n",
    "fig = plt.figure()\n",
    "ax = fig.add_subplot(111)\n",
    "bp = ax.boxplot(\n",
    "    dataset,\n",
    "    patch_artist=\"Patch\",\n",
    "    labels=[\"A\", \"B\", \"C\", \"D\"],\n",
    "    meanline=True,\n",
    "    showmeans=True,\n",
    ")\n",
    "\n",
    "# 컬러세트\n",
    "colors1 = [\"#2196F3\", \"#43A047\", \"#FBC02D\", \"#FB8C00\"]\n",
    "colors2 = [\"#BBDEFB\", \"#C8E6C9\", \"#FFF9C4\", \"#FFE0B2\"]\n",
    "\n",
    "# 위 아래로나뉘어진 요소에 설정하기 위해 용도의 수열\n",
    "n = [0, 0, 1, 1, 2, 2, 3, 3]\n",
    "\n",
    "# 서식 설정\n",
    "# 상자와 벗어난 값, 중앙값의 서식 설정\n",
    "for params in zip(bp[\"boxes\"], bp[\"fliers\"], bp[\"medians\"], colors1, colors2):\n",
    "    bpb, bpf, med, color1, color2 = params\n",
    "    # 상자 서식 설정\n",
    "    bpb.set_color(color1)\n",
    "    bpb.set_facecolor(color2)\n",
    "    bpb.set_linewidth(2)\n",
    "    # 벗어난 값 서식 설정\n",
    "    bpf.set(marker=\"^\", color=color2)\n",
    "    bpf.set_markeredgecolor(\"white\")\n",
    "    bpf.set_markerfacecolor(color1)\n",
    "    # 중앙값 서식 설정\n",
    "    med.set_color(color1)\n",
    "    med.set_linewidth(2)\n",
    "\n",
    "    \n",
    "# 수염과 수염 끝단 서식 설정\n",
    "for bpc, bpw, m in zip(bp['caps'], bp['whiskers'], n):\n",
    "    bpc.set_color(colors1[m])\n",
    "    bpc.set_linewidth(2)\n",
    "    bpw.set_color(colors1[m])\n",
    "    bpw.set_linewidth(2)\n",
    "    \n",
    "# 평균값 서식 설정\n",
    "for mean, color2 in zip(bp['means'], colors2):\n",
    "    mean.set_color('grey')\n",
    "    mean.set_linewidth(2)\n",
    "    mean.set_linestyle('--')\n",
    "    \n",
    "plt.show()    "
   ]
  },
  {
   "cell_type": "code",
   "execution_count": null,
   "metadata": {},
   "outputs": [],
   "source": []
  }
 ],
 "metadata": {
  "kernelspec": {
   "display_name": "Python 3",
   "language": "python",
   "name": "python3"
  },
  "language_info": {
   "codemirror_mode": {
    "name": "ipython",
    "version": 3
   },
   "file_extension": ".py",
   "mimetype": "text/x-python",
   "name": "python",
   "nbconvert_exporter": "python",
   "pygments_lexer": "ipython3",
   "version": "3.6.8"
  }
 },
 "nbformat": 4,
 "nbformat_minor": 2
}

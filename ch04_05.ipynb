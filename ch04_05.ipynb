{
 "cells": [
  {
   "cell_type": "markdown",
   "metadata": {},
   "source": [
    "## ch04-05 막대그래프\n",
    "\n",
    "막대그래프는 수량을 막대의 길이로 나타낸 그래프이다. "
   ]
  },
  {
   "cell_type": "markdown",
   "metadata": {},
   "source": [
    "### 막대그래프 작성하기  \n",
    "\n",
    "막대 그래프는 Axes.bar()메서드를 사용해서 그린다 다음 코드는 bar()의 제1, 제2인수에 각각 X값과 Y값을 부여한다. 데이터로서 리스형, 오브젝트를 이용할 수 있다."
   ]
  },
  {
   "cell_type": "code",
   "execution_count": 1,
   "metadata": {},
   "outputs": [
    {
     "data": {
      "text/plain": [
       "<Figure size 640x480 with 1 Axes>"
      ]
     },
     "metadata": {},
     "output_type": "display_data"
    }
   ],
   "source": [
    "import matplotlib.pyplot as plt\n",
    "\n",
    "plt.style.use('ggplot')\n",
    "fig = plt.figure()\n",
    "ax = fig.add_subplot(111)\n",
    "\n",
    "x = [1, 2]\n",
    "y = [1, 3]\n",
    "\n",
    "ax.bar(x, y)\n",
    "plt.show()"
   ]
  },
  {
   "cell_type": "markdown",
   "metadata": {},
   "source": [
    "### 눈금 레이블을 붙일 경우\n",
    "\n",
    "다음 코드처럼 X값을 부여해서 인수 tick_label에 눈금레이블을 설정해서 작성한다. "
   ]
  },
  {
   "cell_type": "code",
   "execution_count": 2,
   "metadata": {},
   "outputs": [
    {
     "data": {
      "image/png": "[encoded data removed]",
      "text/plain": [
       "<Figure size 432x288 with 1 Axes>"
      ]
     },
     "metadata": {
      "needs_background": "light"
     },
     "output_type": "display_data"
    }
   ],
   "source": [
    "# 횡축의 눈금에 레이블 설정\n",
    "fig = plt.figure()\n",
    "ax = fig.add_subplot(111)\n",
    "\n",
    "labels=['apple', 'orange']\n",
    "ax.bar(x, y, tick_label=labels)\n",
    "\n",
    "plt.show()\n"
   ]
  },
  {
   "cell_type": "markdown",
   "metadata": {},
   "source": [
    "레이블은 리스트나 튜플로 부여한다. 다음 코드에서는 리스트 labels을 레이블로서 부여하고 있다. 그린 후에 눈금 레이블을 설정하는 방법도 있다. 다음 코드는 Axes.set_xticks()메서드로 X축 눈금을 설정하고 Axes.set_xticklabels()메서드로 눈금 레이블을 설정한다."
   ]
  },
  {
   "cell_type": "code",
   "execution_count": 3,
   "metadata": {},
   "outputs": [
    {
     "data": {
      "image/png": "[encoded data removed]",
      "text/plain": [
       "<Figure size 432x288 with 1 Axes>"
      ]
     },
     "metadata": {
      "needs_background": "light"
     },
     "output_type": "display_data"
    }
   ],
   "source": [
    "# 그리기\n",
    "fig = plt.figure()\n",
    "ax = fig.add_subplot(111)\n",
    "\n",
    "ax.bar(x, y)\n",
    "\n",
    "# X축의 축눈금과 축눈금 레이블\n",
    "ax.set_xticks(x)\n",
    "ax.set_xticklabels(labels)\n",
    "\n",
    "plt.show()"
   ]
  },
  {
   "cell_type": "markdown",
   "metadata": {},
   "source": [
    "### 수평막대그래프를 작성하는 경우\n",
    "\n",
    "수평 막대그래프는 Axes.barh() 메서드를 이용해서 그린다. 메서드의 인수는 기본적으로 bar()와 같다. "
   ]
  },
  {
   "cell_type": "code",
   "execution_count": 4,
   "metadata": {},
   "outputs": [
    {
     "data": {
      "image/png": "[encoded data removed]",
      "text/plain": [
       "<Figure size 432x288 with 1 Axes>"
      ]
     },
     "metadata": {
      "needs_background": "light"
     },
     "output_type": "display_data"
    }
   ],
   "source": [
    "fig = plt.figure()\n",
    "ax = fig.add_subplot(111)\n",
    "\n",
    "ax.barh(x, y, tick_label=labels)\n",
    "\n",
    "plt.show()"
   ]
  },
  {
   "cell_type": "markdown",
   "metadata": {},
   "source": [
    "### 막대그래프 활용하기\n",
    "\n",
    "실제 데이터를 이용해서 그래프를 작성한다. 데이터는 anime_master.csv 파일을 이용한다. \n"
   ]
  },
  {
   "cell_type": "raw",
   "metadata": {},
   "source": [
    "import pandas as pd\n",
    "\n",
    "anime_master_csv = './anime/anime_master.csv'\n",
    "\n",
    "df = pd.read_csv(anime_master_csv)\n",
    "\n",
    "df.head()"
   ]
  },
  {
   "cell_type": "markdown",
   "metadata": {},
   "source": [
    "막대그래프는 수량의 대소를 시각화 할 때 적당하다. 여기에서는 작품의 배급 종별마다 멤버수의 합계 값을 추출해서 막대그래프를 그란다. \n",
    "Matplotlib은 pandas의 DataFrame이나 Series를 이용해서 그래프를 그릴 수 있다. 다음 코드는 X값에 배급 종별, Y값에 배급 종별마다의 합계 멤버수를 부여해서 그린다. \n",
    "\n",
    "x에 대해서는 len()함수로 DataFrame의 데이터 수를 계수하고 range()함수로 그 범위의 정수 열을 생성한다. \n",
    "\n",
    "또한 X축 레이블에는 Serise의 인덱스를 부여한다. "
   ]
  },
  {
   "cell_type": "code",
   "execution_count": 5,
   "metadata": {},
   "outputs": [
    {
     "data": {
      "image/png": "[encoded data removed]",
      "text/plain": [
       "<Figure size 432x288 with 1 Axes>"
      ]
     },
     "metadata": {
      "needs_background": "light"
     },
     "output_type": "display_data"
    }
   ],
   "source": [
    "import pandas as pd\n",
    "\n",
    "anime_master_csv = './anime/anime_master.csv'\n",
    "\n",
    "df = pd.read_csv(anime_master_csv)\n",
    "\n",
    "fig = plt.figure()\n",
    "\n",
    "ax = fig.add_subplot(111)\n",
    "\n",
    "y = df.groupby('type').sum()['members']\n",
    "\n",
    "x = range(len(y))\n",
    "\n",
    "xlabels = y.index\n",
    "ax.bar(x, y, tick_label = xlabels)\n",
    "ax.set_ylabel('합계 멤버수')\n",
    "\n",
    "plt.show()"
   ]
  },
  {
   "cell_type": "markdown",
   "metadata": {},
   "source": [
    "### 여러가지 그룹에 대한 막대그래프 작성하기\n",
    "\n",
    "여러 그룹의 막대그래프를 그릴 때에는 공부가 필요하다. 다음 코드 처럼 여러번 bar()를 실행하면 최초에 그려진 오브젝트가 뒤에 그려진 오브젝트에 의해 덮여씌어진다. "
   ]
  },
  {
   "cell_type": "code",
   "execution_count": 6,
   "metadata": {},
   "outputs": [
    {
     "data": {
      "image/png": "[encoded data removed]",
      "text/plain": [
       "<Figure size 432x288 with 1 Axes>"
      ]
     },
     "metadata": {
      "needs_background": "light"
     },
     "output_type": "display_data"
    }
   ],
   "source": [
    "# 여러 그룹 막대그래프 그리기(실패 사례)\n",
    "import numpy as np\n",
    "\n",
    "# 데이터 세트 작성\n",
    "\n",
    "x = [1, 2]\n",
    "y1, y2, y3 = [1,2], [2, 4], [3, 6]\n",
    "\n",
    "# 복수 그룹의 막대 그래프\n",
    "fig = plt.figure()\n",
    "ax = fig.add_subplot(111)\n",
    "\n",
    "w = 0.2\n",
    "ax.bar(x, y1, label='y1')\n",
    "ax.bar(x, y2, label='y2')\n",
    "ax.bar(x, y3, label='y3')\n",
    "\n",
    "\n",
    "ax.legend()\n",
    "\n",
    "plt.show()"
   ]
  },
  {
   "cell_type": "markdown",
   "metadata": {},
   "source": [
    "위의 코드는 같은 X값을 가진 오브젝트가 겹쳐진다. 이것을 피하기 위해서는 다음 코드처럼 X값을 막대의 가로 폭 만큼 비켜서 그릴 필요가 있다. 다음 코드는 막대그래프의 가로 폭을 0.2로 설정하고 X값을 0.2 만큼씩 비켜서 그리고 있다. "
   ]
  },
  {
   "cell_type": "code",
   "execution_count": 12,
   "metadata": {},
   "outputs": [
    {
     "name": "stdout",
     "output_type": "stream",
     "text": [
      "[1 2]\n"
     ]
    },
    {
     "data": {
      "image/png": "[encoded data removed]",
      "text/plain": [
       "<Figure size 432x288 with 1 Axes>"
      ]
     },
     "metadata": {
      "needs_background": "light"
     },
     "output_type": "display_data"
    }
   ],
   "source": [
    "# 복수 그룹의 막대 그래프 그리기\n",
    "fig = plt.figure()\n",
    "ax = fig.add_subplot(111)\n",
    "\n",
    "w = 0.2\n",
    "ax.bar(x, y1, width=w, label='y1')\n",
    "ax.bar(np.array(x) + w, y2, width=w, label='y1')\n",
    "ax.bar(np.array(x) + w * 2, y3, width=w, label='y2')\n",
    "\n",
    "print(np.array(x))"
   ]
  },
  {
   "cell_type": "markdown",
   "metadata": {},
   "source": [
    "### 여러 그룹의 막대그래프 확용하기\n",
    "\n",
    "실제의 데이터를 이용해서 그래프를 그린다. 데이터는 anime_genre_top10_pivoted.csv 파일을 이용한다. "
   ]
  },
  {
   "cell_type": "code",
   "execution_count": 20,
   "metadata": {},
   "outputs": [
    {
     "data": {
      "image/png": "[encoded data removed]",
      "text/plain": [
       "<Figure size 1296x216 with 1 Axes>"
      ]
     },
     "metadata": {
      "needs_background": "light"
     },
     "output_type": "display_data"
    }
   ],
   "source": [
    "anime_genre_top10_pivoted_csv = './anime/anime_genre_top10_pivoted.csv'\n",
    "dfag = pd.read_csv(anime_genre_top10_pivoted_csv, index_col='genre')\n",
    "\n",
    "fig = plt.figure(figsize=(18, 3))\n",
    "ax = fig.add_subplot(111)\n",
    "\n",
    "wt = np.array(range(len(dfag)))\n",
    "w = 0.1\n",
    "\n",
    "for i in dfag.columns:\n",
    "    ax.bar(wt, dfag[i], width=w, label=i)\n",
    "    wt = wt + w\n",
    "    \n",
    "ax.set_xticks(np.array(range(len(dfag)+2)))    \n",
    "ax.set_xticklabels(dfag.index, ha = 'left')\n",
    "ax.set_ylabel('누적 멤버수')\n",
    "ax.legend()\n",
    "\n",
    "plt.show()"
   ]
  },
  {
   "cell_type": "markdown",
   "metadata": {},
   "source": [
    "위의 코드는 Music 이나 ONA 값이 상대적으로 작기 때문에 눈으로 확인하는 것이 어렵다. 이 같은 경우에 로그축을 이용하면 가독성이 좋아진다. Y축을 로그축에 설정하는 경우에는 다음 코드 처럼 set_yscale() 메서드에 log를 지정한다. "
   ]
  },
  {
   "cell_type": "code",
   "execution_count": 27,
   "metadata": {},
   "outputs": [
    {
     "data": {
      "image/png": "[encoded data removed]",
      "text/plain": [
       "<Figure size 1296x360 with 1 Axes>"
      ]
     },
     "metadata": {
      "needs_background": "light"
     },
     "output_type": "display_data"
    }
   ],
   "source": [
    "fig = plt.figure(figsize=(18, 5))\n",
    "ax = fig.add_subplot(111)\n",
    "\n",
    "wt = np.array(range(len(dfag)))\n",
    "# print(wt)\n",
    "w = 0.1\n",
    "\n",
    "for i in dfag.columns:\n",
    "    ax.bar(wt, dfag[i], width = w, label = i)\n",
    "    wt = wt + w\n",
    "    \n",
    "ax.set_xticks(np.array(range(len(dfag)+2)))\n",
    "ax.set_xticklabels(dfag.index, ha='left')\n",
    "ax.set_ylabel('누적 멤버수')\n",
    "ax.set_yscale('log')\n",
    "ax.legend()\n",
    "\n",
    "plt.show()"
   ]
  },
  {
   "cell_type": "markdown",
   "metadata": {},
   "source": [
    "### 누적 막대그래프 그리기\n",
    "\n",
    "누적 막대그래프를 그릴 때에도 여러 구릅의 막대그래프와 같이 작성시 요령이 필요하다. 다음은 y1, y2, y3이라는 세 개의 값을 누적한 경우의 그리기 순서를 설명한다. 실제의 그리기 순서는 다음과 같다. \n",
    "- 1) y1과 y2와 y3의 합을 그린다. \n",
    "- 2) 1)에 y2와 y3의 값을 겹쳐서 그린다. \n",
    "- 3) 2)에 y1을 겹쳐서 그린다. \n",
    "\n",
    "같은 X값을  부여해서 그리면 뒤에 그린 막대에 겹쳐지기 때문에 수동으로 값으 합계를 내서 합계가 많은 쪽부터 순서대로 그리는 작업을 한다. "
   ]
  },
  {
   "cell_type": "code",
   "execution_count": 36,
   "metadata": {},
   "outputs": [
    {
     "data": {
      "image/png": "[encoded data removed]",
      "text/plain": [
       "<Figure size 720x216 with 1 Axes>"
      ]
     },
     "metadata": {
      "needs_background": "light"
     },
     "output_type": "display_data"
    }
   ],
   "source": [
    "# 데이터 세트 작성\n",
    "x = np.arange(5)\n",
    "np.random.seed(0)\n",
    "y = np.random.rand(15).reshape(3, 5)\n",
    "y1, y2, y3 = y\n",
    "\n",
    "y1b = np.array(y1)\n",
    "y2b = y1b + np.array(y2)\n",
    "y3b = y2b + np.array(y3)\n",
    "\n",
    "# 누적 막대 그래프 그리기\n",
    "fig = plt.figure(figsize = (10, 3))\n",
    "ax = fig.add_subplot(111)\n",
    "\n",
    "ax.bar(x, y3b, label='y3')\n",
    "ax.bar(x, y2b, label='y2')\n",
    "ax.bar(x, y1b, label='y1')\n",
    "\n",
    "labels = ['a', 'b', 'c', 'd', 'e']\n",
    "ax.set_xticks(x)\n",
    "ax.set_xticklabels(labels)\n",
    "ax.legend()\n",
    "\n",
    "plt.show()"
   ]
  },
  {
   "cell_type": "markdown",
   "metadata": {},
   "source": [
    "#### bottom 옵션으로 누적 설정하기\n",
    "누적 막대그래프 작성시 옵션으로 bottom 옵션이 있다. 하단에 오는 리스트형, 오브젝트를 인수 bottom에 설정하는 것에 의해 누적 표시가 이루어진다. "
   ]
  },
  {
   "cell_type": "markdown",
   "metadata": {},
   "source": [
    "아래 코드는 위의 코드와 출력 결과가 같아진다. 하지만, 세 그룹 이사을 누적할 경우 위와 같은 방식으로 처리해야 한다. 두 개 그룹의 누적까지는 bottom 옵션이 유효하지만 그 이상을 누적할 경우에는 위의 방식이 유효화다"
   ]
  },
  {
   "cell_type": "code",
   "execution_count": 38,
   "metadata": {},
   "outputs": [
    {
     "data": {
      "image/png": "[encoded data removed]",
      "text/plain": [
       "<Figure size 720x216 with 1 Axes>"
      ]
     },
     "metadata": {
      "needs_background": "light"
     },
     "output_type": "display_data"
    }
   ],
   "source": [
    "figure = plt.figure(figsize=(10, 3))\n",
    "ax = figure.add_subplot(111)\n",
    "\n",
    "ax.bar(x, y3, bottom = y2b, label = 'y3')\n",
    "ax.bar(x, y2, bottom = y1b, label = 'y2')\n",
    "ax.bar(x, y1, label = 'y1')\n",
    "ax.legend()\n",
    "\n",
    "plt.show()"
   ]
  },
  {
   "cell_type": "markdown",
   "metadata": {},
   "source": [
    "#### pandas의 plot.bar()메서드에 \"stacked=True\"을 지정하여 간단히 누적 막대그래프를 그릴 수 있다. "
   ]
  },
  {
   "cell_type": "markdown",
   "metadata": {},
   "source": [
    "### 누적 막대그래프 활용하기\n",
    "\n",
    "실제 데이터를 이용해 그래프를 작성한다. 데이터는 앞에서 이용한 anime_genre_top10_pivoted.csv 파일을 이용한다. 데이터는 dfag에 DataFrame으로 저장되어 있다. "
   ]
  },
  {
   "cell_type": "code",
   "execution_count": 47,
   "metadata": {},
   "outputs": [
    {
     "name": "stdout",
     "output_type": "stream",
     "text": [
      "0 Movie\n",
      "1 Music\n",
      "2 ONA\n",
      "3 OVA\n",
      "4 Special\n",
      "5 TV\n"
     ]
    },
    {
     "data": {
      "image/png": "[encoded data removed]",
      "text/plain": [
       "<Figure size 576x216 with 1 Axes>"
      ]
     },
     "metadata": {
      "needs_background": "light"
     },
     "output_type": "display_data"
    }
   ],
   "source": [
    "fig = plt.figure(figsize=(8, 3))\n",
    "ax = fig.add_subplot(111)\n",
    "\n",
    "rows, cols = len(dfag), len(dfag.columns)\n",
    "x = range(rows)\n",
    "\n",
    "for i, t in enumerate(dfag.columns):\n",
    "    # i 열부터 마지막까지의 합을 계산\n",
    "    print(i, t)\n",
    "    y = dfag.iloc[:, i : cols].sum(axis=1)\n",
    "    \n",
    "    ax.bar(x, y, label=t)\n",
    "ax.set_xticks(range(rows +2))\n",
    "ax.set_xticklabels(dfag.index)\n",
    "ax.set_ylabel('누적 멤버수')\n",
    "ax.legend()\n",
    "\n",
    "plt.show()\n",
    "    "
   ]
  }
 ],
 "metadata": {
  "kernelspec": {
   "display_name": "Python 3",
   "language": "python",
   "name": "python3"
  },
  "language_info": {
   "codemirror_mode": {
    "name": "ipython",
    "version": 3
   },
   "file_extension": ".py",
   "mimetype": "text/x-python",
   "name": "python",
   "nbconvert_exporter": "python",
   "pygments_lexer": "ipython3",
   "version": "3.6.8"
  }
 },
 "nbformat": 4,
 "nbformat_minor": 2
}

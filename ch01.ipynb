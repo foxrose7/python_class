{
 "cells": [
  {
   "cell_type": "markdown",
   "metadata": {},
   "source": [
    "# 파이썬 JUPYTER NOTEBOOK 실전 입문\n",
    "\n",
    "## jupyter notebook을 이용한 ipython, pandas, matplotlib 사용관련 공부 정리 "
   ]
  },
  {
   "cell_type": "markdown",
   "metadata": {},
   "source": [
    "### 1-4. 한글 폰트 환경 준비 하기\n",
    "#### 그래프 그리기에서 한글이 깨지는 예제"
   ]
  },
  {
   "cell_type": "code",
   "execution_count": 1,
   "metadata": {},
   "outputs": [
    {
     "data": {
      "text/plain": [
       "<Figure size 640x480 with 1 Axes>"
      ]
     },
     "metadata": {},
     "output_type": "display_data"
    }
   ],
   "source": [
    "import numpy as np\n",
    "from matplotlib import pyplot as plt\n",
    "\n",
    "np.random.seed(0)\n",
    "\n",
    "x = range(5)\n",
    "y = 10 + 5 * np.random.randn(5)\n",
    "\n",
    "fig = plt.figure()\n",
    "ax = fig.add_subplot(111)\n",
    "\n",
    "ax.set_title(\"한글을 지정한 타이틀\")\n",
    "# Source Han Sans https://github.com/adobe-fonts/source-han-sans\n",
    "# https://github.com/adobe-fonts/source-han-sans/tree/release\n",
    "ax.bar(x, y)\n",
    "plt.show()"
   ]
  },
  {
   "cell_type": "code",
   "execution_count": 2,
   "metadata": {},
   "outputs": [
    {
     "data": {
      "image/png": "[encoded data removed]",
      "text/plain": [
       "<Figure size 432x288 with 1 Axes>"
      ]
     },
     "metadata": {
      "needs_background": "light"
     },
     "output_type": "display_data"
    }
   ],
   "source": [
    "import os\n",
    "import numpy as np\n",
    "from matplotlib import pyplot as plt, font_manager\n",
    "\n",
    "#폰트 캐쉬를 재국축 한다. \n",
    "font_manager._rebuild()\n",
    "\n",
    "if os.name =='nt': \n",
    "    # OS가 Windows인 경우 win32FontDirectory()를 이용할 수 있다. \n",
    "    font_dir = font_manager.win32FontDirectory()\n",
    "else:\n",
    "    # OS가 Mac인 경우에는 디렉터리를 지정한다. \n",
    "    # 경로에 포함되는 유저명은 환경에 맞게 변경한다. ex) foxrose\n",
    "    font_dir = '/Users/foxrose/Library/Fonts/'\n",
    "\n",
    "# font_path = os.path.join(font_dir, 'SourceHanSansK-Regular.otf')\n",
    "font_path = os.path.join(font_dir, 'D2CodingBold.ttf')\n",
    "font = font_manager.FontProperties(fname=font_path, size=14)\n",
    "\n",
    "# 그래프를 작성한다. \n",
    "np.random.seed(0)\n",
    "\n",
    "\n",
    "x = range(5)\n",
    "y = 10 + 5 * np.random.randn(5)\n",
    "fig = plt.figure()\n",
    "ax = fig.add_subplot(111)\n",
    "\n",
    "ax.set_title(\"한국어를 지정한 타이틀\", fontproperties=font)\n",
    "ax.set_xlabel('X축', fontproperties=font)\n",
    "# Source Han Sans https://github.com/adobe-fonts/source-han-sans\n",
    "# https://github.com/adobe-fonts/source-han-sans/tree/release\n",
    "ax.bar(x, y)\n",
    "plt.show()\n",
    "\n"
   ]
  },
  {
   "cell_type": "code",
   "execution_count": 3,
   "metadata": {},
   "outputs": [
    {
     "data": {
      "image/png": "[encoded data removed]",
      "text/plain": [
       "<Figure size 432x288 with 1 Axes>"
      ]
     },
     "metadata": {
      "needs_background": "light"
     },
     "output_type": "display_data"
    }
   ],
   "source": [
    "import os\n",
    "import numpy as np\n",
    "from matplotlib import pyplot as plt, rcParams\n",
    "rcParams['font.sans-serif'] = 'Source Han Sans K'\n",
    "# rcParams['font.sans-serif'] = 'D2Coding'\n",
    "rcParams['font.weight'] =  'regular'\n",
    "rcParams['axes.titlesize'] = 20\n",
    "rcParams['ytick.labelsize'] = 12\n",
    "rcParams['xtick.labelsize'] = 12\n",
    "\n",
    "np.random.seed(0)\n",
    "\n",
    "x = range(5)\n",
    "y = 10 + 5 * np.random.randn(5)\n",
    "fig = plt.figure()\n",
    "ax = fig.add_subplot(111)\n",
    "\n",
    "#여기에 폰트 정보를 저장할 필요가 없다. \n",
    "ax.set_title( '한국어를 지정한 타이틀')\n",
    "ax.bar(x, y)\n",
    "\n",
    "plt.show()\n"
   ]
  },
  {
   "cell_type": "code",
   "execution_count": 4,
   "metadata": {},
   "outputs": [
    {
     "data": {
      "text/plain": [
       "'/Users/foxrose/work/notebooks/matplotlibrc'"
      ]
     },
     "execution_count": 4,
     "metadata": {},
     "output_type": "execute_result"
    }
   ],
   "source": [
    "from matplotlib import  matplotlib_fname\n",
    "matplotlib_fname()"
   ]
  }
 ],
 "metadata": {
  "kernelspec": {
   "display_name": "Python 3",
   "language": "python",
   "name": "python3"
  },
  "language_info": {
   "codemirror_mode": {
    "name": "ipython",
    "version": 3
   },
   "file_extension": ".py",
   "mimetype": "text/x-python",
   "name": "python",
   "nbconvert_exporter": "python",
   "pygments_lexer": "ipython3",
   "version": "3.6.8"
  }
 },
 "nbformat": 4,
 "nbformat_minor": 2
}
